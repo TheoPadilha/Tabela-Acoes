{
 "cells": [
  {
   "cell_type": "code",
   "execution_count": 142,
   "metadata": {},
   "outputs": [],
   "source": [
    "from selenium import webdriver\n",
    "from selenium.webdriver.edge.service import Service\n",
    "from selenium.webdriver.common.by import By\n",
    "from selenium.webdriver.support.ui import WebDriverWait\n",
    "from selenium.webdriver.support import expected_conditions as EC"
   ]
  },
  {
   "cell_type": "code",
   "execution_count": 143,
   "metadata": {},
   "outputs": [],
   "source": [
    "\n",
    "service = Service()  # O WebDriver agora deve ser encontrado automaticamente\n",
    "options = webdriver.EdgeOptions()\n",
    "\n",
    "# Inicializa o navegador\n",
    "driver = webdriver.Edge(service=service, options=options)"
   ]
  },
  {
   "cell_type": "code",
   "execution_count": 144,
   "metadata": {},
   "outputs": [
    {
     "name": "stdout",
     "output_type": "stream",
     "text": [
      "Acessando a página da ação ABEV3\n"
     ]
    }
   ],
   "source": [
    "import time\n",
    "# Lista de ações\n",
    "acoes = [\n",
    "    \"ABEV3\"\n",
    "]\n",
    "\n",
    "# , \"BBAS3\", \"BBDC4\", \"BBSE3\", \"CMIG4\", \"EGIE3\", \"ITASA3\", \"KLBN4\", \n",
    "#     \"PETR4\", \"SAPR4\", \"TAEE11\", \"VALE3\", \"WEGE3\n",
    "# Passa por cada ação na lista e acessa a URL correspondente\n",
    "for acao in acoes:\n",
    "    url = f\"https://statusinvest.com.br/acoes/{acao}\"\n",
    "    driver.get(url)\n",
    "    print(f\"Acessando a página da ação {acao}\")\n",
    "\n"
   ]
  },
  {
   "cell_type": "code",
   "execution_count": 145,
   "metadata": {},
   "outputs": [
    {
     "ename": "AttributeError",
     "evalue": "'list' object has no attribute 'text'",
     "output_type": "error",
     "traceback": [
      "\u001b[31m---------------------------------------------------------------------------\u001b[39m",
      "\u001b[31mAttributeError\u001b[39m                            Traceback (most recent call last)",
      "\u001b[36mCell\u001b[39m\u001b[36m \u001b[39m\u001b[32mIn[145]\u001b[39m\u001b[32m, line 7\u001b[39m\n\u001b[32m      5\u001b[39m clico = driver.find_elements(By.TAG_NAME, \u001b[33m\"\u001b[39m\u001b[33mbutton\u001b[39m\u001b[33m\"\u001b[39m)[\u001b[32m8\u001b[39m]\n\u001b[32m      6\u001b[39m clico.click()\n\u001b[32m----> \u001b[39m\u001b[32m7\u001b[39m strongClico = \u001b[43mdriver\u001b[49m\u001b[43m.\u001b[49m\u001b[43mfind_elements\u001b[49m\u001b[43m(\u001b[49m\u001b[43mBy\u001b[49m\u001b[43m.\u001b[49m\u001b[43mCLASS_NAME\u001b[49m\u001b[43m \u001b[49m\u001b[43m,\u001b[49m\u001b[43m \u001b[49m\u001b[33;43m\"\u001b[39;49m\u001b[33;43mtitle\u001b[39;49m\u001b[33;43m\"\u001b[39;49m\u001b[43m)\u001b[49m\u001b[43m.\u001b[49m\u001b[43mtext\u001b[49m\n\u001b[32m     11\u001b[39m \u001b[38;5;66;03m# try:\u001b[39;00m\n\u001b[32m     12\u001b[39m \u001b[38;5;66;03m#     WebDriverWait(driver, 5).until(EC.visibility_of_element_located((By.CLASS_NAME, \"modal-content\")))  # Espera até que o modal apareça\u001b[39;00m\n\u001b[32m     13\u001b[39m \n\u001b[32m   (...)\u001b[39m\u001b[32m     23\u001b[39m \u001b[38;5;66;03m#     print(f\"Erro ao encontrar o modal ou o elemento: {e}\")\u001b[39;00m\n\u001b[32m     24\u001b[39m \u001b[38;5;66;03m# Mapeamento dos índices para os rótulos\u001b[39;00m\n\u001b[32m     25\u001b[39m mapa_indices = {\n\u001b[32m     26\u001b[39m     \u001b[32m44\u001b[39m: \u001b[33m\"\u001b[39m\u001b[33mLPA\u001b[39m\u001b[33m\"\u001b[39m,\n\u001b[32m     27\u001b[39m     \u001b[32m42\u001b[39m: \u001b[33m\"\u001b[39m\u001b[33mVPA\u001b[39m\u001b[33m\"\u001b[39m,\n\u001b[32m   (...)\u001b[39m\u001b[32m     33\u001b[39m     \u001b[32m122\u001b[39m: \u001b[33m\"\u001b[39m\u001b[33mDYmedio\u001b[39m\u001b[33m\"\u001b[39m,\n\u001b[32m     34\u001b[39m }\n",
      "\u001b[31mAttributeError\u001b[39m: 'list' object has no attribute 'text'"
     ]
    }
   ],
   "source": [
    "# driver.find_elements(By.TAG_NAME, 'strong')[44].text\n",
    "# Captura os elementos <strong> e <div>\n",
    "# elementos_strong = driver.find_elements(By.CLASS_NAME, 'w-50')\n",
    "# elementos_div = driver.find_elements(By.TAG_NAME, 'div')\n",
    "clico = driver.find_elements(By.TAG_NAME, \"button\")[8]\n",
    "clico.click()\n",
    "strongClico = driver.find_elements(By.CLASS_NAME , \"title\").text\n",
    "\n",
    "\n",
    "\n",
    "# try:\n",
    "#     WebDriverWait(driver, 5).until(EC.visibility_of_element_located((By.CLASS_NAME, \"modal-content\")))  # Espera até que o modal apareça\n",
    "\n",
    "#     # Agora espera pelo <strong> dentro do modal\n",
    "#     elemento_strong = WebDriverWait(driver, 10).until(\n",
    "#         EC.presence_of_element_located((By.TAG_NAME, 'strong'))\n",
    "#     )\n",
    "\n",
    "#     # Obtém o texto do <strong>\n",
    "#     print(elemento_strong.text)  # Exibe \"4,21%\"\n",
    "\n",
    "# except Exception as e:\n",
    "#     print(f\"Erro ao encontrar o modal ou o elemento: {e}\")\n",
    "# Mapeamento dos índices para os rótulos\n",
    "mapa_indices = {\n",
    "    44: \"LPA\",\n",
    "    42: \"VPA\",\n",
    "    36: \"PEG RATIO\",\n",
    "    37: \"P/VP\",\n",
    "    35: \"P/L\",\n",
    "    34: \"DY\",\n",
    "    4: \"PREÇO\",\n",
    "    122: \"DYmedio\",\n",
    "}\n",
    "\n",
    "# Adicionando o índice da nova <div>\n",
    "# mapa_divs = {\n",
    "#     63: \"Dividendo pago 2025\"\n",
    "# }\n",
    "\n",
    "# Imprimindo os elementos <strong>\n",
    "# for indice, rotulo in mapa_indices.items():\n",
    "#     if indice < len(elementos_strong):  \n",
    "#         print(f\"{rotulo}: {elementos_strong[indice].text}\")\n",
    "#     else:\n",
    "#         print(f\"Índice {indice} fora do intervalo em <strong>\")\n",
    "        \n",
    "        \n",
    "# for elemento in clico:\n",
    "#     print(elemento.text)        \n",
    "\n",
    "# Imprimindo os elementos <div>\n",
    "# for indice, rotulo in mapa_divs.items():\n",
    "#     if indice < len(elementos_div):  \n",
    "#         print(f\"{rotulo}: {elementos_div[indice].text}\")\n",
    "#     else:\n",
    "#         print(f\"Índice {indice} fora do intervalo em <div>\")"
   ]
  },
  {
   "cell_type": "code",
   "execution_count": null,
   "metadata": {},
   "outputs": [
    {
     "name": "stdout",
     "output_type": "stream",
     "text": [
      "\n"
     ]
    }
   ],
   "source": [
    "\n",
    "print(strongClico)"
   ]
  }
 ],
 "metadata": {
  "kernelspec": {
   "display_name": "Python 3",
   "language": "python",
   "name": "python3"
  },
  "language_info": {
   "codemirror_mode": {
    "name": "ipython",
    "version": 3
   },
   "file_extension": ".py",
   "mimetype": "text/x-python",
   "name": "python",
   "nbconvert_exporter": "python",
   "pygments_lexer": "ipython3",
   "version": "3.13.1"
  }
 },
 "nbformat": 4,
 "nbformat_minor": 2
}
